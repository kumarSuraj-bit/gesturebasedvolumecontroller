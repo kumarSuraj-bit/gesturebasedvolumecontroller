{
 "cells": [
  {
   "cell_type": "code",
   "execution_count": 1,
   "metadata": {},
   "outputs": [
    {
     "ename": "ModuleNotFoundError",
     "evalue": "No module named 'pycaw'",
     "output_type": "error",
     "traceback": [
      "\u001b[1;31m---------------------------------------------------------------------------\u001b[0m",
      "\u001b[1;31mModuleNotFoundError\u001b[0m                       Traceback (most recent call last)",
      "\u001b[1;32m<ipython-input-1-2d9f8395cc7f>\u001b[0m in \u001b[0;36m<module>\u001b[1;34m\u001b[0m\n\u001b[0;32m      6\u001b[0m \u001b[1;32mfrom\u001b[0m \u001b[0mctypes\u001b[0m \u001b[1;32mimport\u001b[0m \u001b[0mcast\u001b[0m\u001b[1;33m,\u001b[0m \u001b[0mPOINTER\u001b[0m\u001b[1;33m\u001b[0m\u001b[1;33m\u001b[0m\u001b[0m\n\u001b[0;32m      7\u001b[0m \u001b[1;32mfrom\u001b[0m \u001b[0mcomtypes\u001b[0m \u001b[1;32mimport\u001b[0m \u001b[0mCLSCTX_ALL\u001b[0m\u001b[1;33m\u001b[0m\u001b[1;33m\u001b[0m\u001b[0m\n\u001b[1;32m----> 8\u001b[1;33m \u001b[1;32mfrom\u001b[0m \u001b[0mpycaw\u001b[0m\u001b[1;33m.\u001b[0m\u001b[0mpycaw\u001b[0m \u001b[1;32mimport\u001b[0m \u001b[0mAudioUtilities\u001b[0m\u001b[1;33m,\u001b[0m \u001b[0mIAudioEndpointVolume\u001b[0m\u001b[1;33m\u001b[0m\u001b[1;33m\u001b[0m\u001b[0m\n\u001b[0m",
      "\u001b[1;31mModuleNotFoundError\u001b[0m: No module named 'pycaw'"
     ]
    }
   ],
   "source": [
    "import cv2 as cv\n",
    "import numpy as np\n",
    "import mediapipe as mp\n",
    "import time,math\n",
    "import handtracking as ht\n",
    "from ctypes import cast, POINTER\n",
    "from comtypes import CLSCTX_ALL\n",
    "from pycaw.pycaw import AudioUtilities, IAudioEndpointVolume"
   ]
  },
  {
   "cell_type": "code",
   "execution_count": 6,
   "metadata": {},
   "outputs": [
    {
     "name": "stdout",
     "output_type": "stream",
     "text": [
      "Hand Removed....program terminated.\n"
     ]
    }
   ],
   "source": [
    "wcam , hcam = 800,480\n",
    "\n",
    "\n",
    "cam = cv.VideoCapture(0)\n",
    "cam.set(3,wcam) #3 id=s prop id for width of cam\n",
    "cam.set(4,hcam)\n",
    "\n",
    "detector = ht.HandDetector(detectioncon=0.6)\n",
    "\n",
    "#volume controlling using pycaw code\n",
    "devices = AudioUtilities.GetSpeakers()\n",
    "interface = devices.Activate(\n",
    "    IAudioEndpointVolume._iid_, CLSCTX_ALL, None)\n",
    "volume = cast(interface, POINTER(IAudioEndpointVolume))\n",
    "#volume.GetMute()\n",
    "#volume.GetMasterVolumeLevel()\n",
    "min_vol,max_vol,_  = volume.GetVolumeRange()\n",
    "#print(min_vol,max_vol)\n",
    "\n",
    "try:\n",
    "    while 1:\n",
    "        ret,frame = cam.read()\n",
    "        frame = detector.findhands(frame)\n",
    "        lmlist = detector.findposition(frame,draw=False)\n",
    "        volbar=400\n",
    "        volper=1\n",
    "        if len(lmlist)!=0:\n",
    "            #print(lmlist[4],lmlist[8])\n",
    "            x1,y1 = lmlist[4][1],lmlist[4][2]\n",
    "            x2,y2 = lmlist[8][1],lmlist[8][2]\n",
    "\n",
    "            length = math.hypot(x2-x1,y2-y1)\n",
    "            # hand range 22 - 195\n",
    "            # vol range -64 - 0\n",
    "            vol  = np.interp(length,[30,195],[min_vol,max_vol])\n",
    "            volbar  = np.interp(length,[22,195],[400,200])\n",
    "            volper  = np.interp(length,[22,195],[0,100])\n",
    "            #print(int(length),vol)\n",
    "            smoothness = 10\n",
    "            volPer = smoothness * round(volPer / smoothness)\n",
    "\n",
    "            volume.SetMasterVolumeLevel(vol, None)\n",
    "\n",
    "            cv.circle(frame,(x1,y1),15,(200,100,100),cv.FILLED)\n",
    "            cv.circle(frame,(x2,y2),15,(200,100,100),cv.FILLED)\n",
    "            cv.line(frame,(x1,y1),(x2,y2),(200,100,100),3)\n",
    "\n",
    "            #print(length)\n",
    "            if length<=30:\n",
    "                cv.circle(frame,((x1+x2)//2,(y1+y2)//2),15,(0,255,0),cv.FILLED)\n",
    "\n",
    "        cv.rectangle(frame,(40,200),(70,400),(0,255,0),3)\n",
    "        cv.rectangle(frame,(40,int(volbar)),(70,400),(0,255,0),cv.FILLED)\n",
    "        cv.putText(frame,f'{int(volper)}%',(35,440),cv.FONT_HERSHEY_COMPLEX,1,(0,0,255),3)\n",
    "\n",
    "        cv.imshow('web-cam',frame)\n",
    "        cv.waitKey(1)\n",
    "        \n",
    "except Exception as e:\n",
    "    print(\"Hand Removed ....program terminated.\")\n",
    "    cam.release()        \n",
    "    cv.destroyAllWindows()"
   ]
  },
  {
   "cell_type": "code",
   "execution_count": null,
   "metadata": {},
   "outputs": [],
   "source": []
  }
 ],
 "metadata": {
  "kernelspec": {
   "display_name": "Python 3",
   "language": "python",
   "name": "python3"
  },
  "language_info": {
   "codemirror_mode": {
    "name": "ipython",
    "version": 3
   },
   "file_extension": ".py",
   "mimetype": "text/x-python",
   "name": "python",
   "nbconvert_exporter": "python",
   "pygments_lexer": "ipython3",
   "version": "3.8.5"
  },
  "toc": {
   "base_numbering": 1,
   "nav_menu": {},
   "number_sections": true,
   "sideBar": true,
   "skip_h1_title": false,
   "title_cell": "Table of Contents",
   "title_sidebar": "Contents",
   "toc_cell": false,
   "toc_position": {},
   "toc_section_display": true,
   "toc_window_display": false
  }
 },
 "nbformat": 4,
 "nbformat_minor": 4
}
